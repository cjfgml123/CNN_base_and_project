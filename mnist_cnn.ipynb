{
 "cells": [
  {
   "cell_type": "markdown",
   "metadata": {},
   "source": [
    "#### CNN을 이용한 MNIST 손글씨 숫자 분류 2020/01/20\n",
    "##### CNN은 합성곱 레이어(Convolution Layer)와 풀링 레이어(Pooling Layer)로 구성된 신경망 입니다.\n"
   ]
  },
  {
   "cell_type": "markdown",
   "metadata": {},
   "source": [
    "##### 이미지 데이터를 분석할 때 높은 정답률을 내고 음성인식, 얼굴인식, 추천 시스템, 번역 등 다양한 용도로 사용\n"
   ]
  },
  {
   "cell_type": "code",
   "execution_count": 2,
   "metadata": {},
   "outputs": [],
   "source": [
    "import keras\n",
    "from keras.models import Sequential\n",
    "from keras.layers import Dense, Dropout, Flatten\n",
    "from keras.layers import Conv2D, MaxPooling2D\n",
    "from keras.optimizers import RMSprop\n",
    "from keras.datasets import mnist\n",
    "import matplotlib.pyplot as plt"
   ]
  },
  {
   "cell_type": "code",
   "execution_count": 4,
   "metadata": {},
   "outputs": [],
   "source": [
    "# 입력과 출력 지정하기\n",
    "im_rows = 28 # 이미지 세로 픽셀 크기\n",
    "im_cols = 28 # 이미지 가로 픽셀 크기\n",
    "im_color = 1 # 이미지의 색공간 / 그레이스케일\n",
    "in_shape = (im_rows, im_cols, im_colors) \n",
    "out_size = 10"
   ]
  },
  {
   "cell_type": "code",
   "execution_count": 5,
   "metadata": {},
   "outputs": [],
   "source": [
    "# MNIST 데이터 읽어 들이기\n",
    "(X_train,y_train),(X_test,y_test) = mnist.load_data()\n",
    "\n",
    "# 읽어들인 데이터를 3차원 배열로 변환하기\n",
    "X_train = X_train.reshape(-1, im_rows, im_cols, im_color)\n",
    "X_train = X_train.astype('float32') / 255\n",
    "X_test = X_test.reshape(-1, im_rows, im_cols, im_color)\n",
    "X_test = X_test.astype('float32') / 255\n",
    "\n",
    "# 레이블 데이터를 One-hot 형식으로 변환하기\n",
    "y_train = keras.utils.np_utils.to_categorical(y_train.astype('int32'),10)\n",
    "y_test = keras.utils.np_utils.to_categorical(y_test.astype('int32'),10)\n"
   ]
  },
  {
   "cell_type": "code",
   "execution_count": 6,
   "metadata": {},
   "outputs": [
    {
     "name": "stdout",
     "output_type": "stream",
     "text": [
      "WARNING:tensorflow:From C:\\Users\\student\\Anaconda3\\lib\\site-packages\\tensorflow\\python\\ops\\resource_variable_ops.py:435: colocate_with (from tensorflow.python.framework.ops) is deprecated and will be removed in a future version.\n",
      "Instructions for updating:\n",
      "Colocations handled automatically by placer.\n"
     ]
    }
   ],
   "source": [
    "# CNN 모델 구조 정의하기\n",
    "model = Sequential()\n",
    "model.add(Conv2D(32,\n",
    "                kernel_size=(3,3),\n",
    "                activation='relu',\n",
    "                input_shape=in_shape))\n",
    "model.add(Conv2D(64,(3,3), activation='relu'))\n",
    "model.add(MaxPooling2D(pool_size=(2,2)))\n",
    "model.add(Dropout(0.25))\n",
    "model.add(Flatten())\n",
    "model.add(Dense(128, activation='relu'))\n",
    "model.add(Dropout(0.5))\n",
    "model.add(Dense(out_size, activation='softmax'))"
   ]
  },
  {
   "cell_type": "code",
   "execution_count": 7,
   "metadata": {},
   "outputs": [],
   "source": [
    "# 모델 컴파일하기\n",
    "model.compile(\n",
    "    loss= 'categorical_crossentropy',\n",
    "    optimizer=RMSprop(),\n",
    "    metrics=['accuracy'])"
   ]
  },
  {
   "cell_type": "code",
   "execution_count": 8,
   "metadata": {},
   "outputs": [
    {
     "name": "stdout",
     "output_type": "stream",
     "text": [
      "WARNING:tensorflow:From C:\\Users\\student\\Anaconda3\\lib\\site-packages\\tensorflow\\python\\ops\\math_ops.py:3066: to_int32 (from tensorflow.python.ops.math_ops) is deprecated and will be removed in a future version.\n",
      "Instructions for updating:\n",
      "Use tf.cast instead.\n",
      "Train on 60000 samples, validate on 10000 samples\n",
      "Epoch 1/12\n",
      "60000/60000 [==============================] - 69s 1ms/step - loss: 0.2240 - accuracy: 0.9318 - val_loss: 0.0681 - val_accuracy: 0.9779\n",
      "Epoch 2/12\n",
      "60000/60000 [==============================] - 68s 1ms/step - loss: 0.0831 - accuracy: 0.9754 - val_loss: 0.0463 - val_accuracy: 0.9856\n",
      "Epoch 3/12\n",
      "60000/60000 [==============================] - 68s 1ms/step - loss: 0.0616 - accuracy: 0.9818 - val_loss: 0.0373 - val_accuracy: 0.9871\n",
      "Epoch 4/12\n",
      "60000/60000 [==============================] - 68s 1ms/step - loss: 0.0530 - accuracy: 0.9850 - val_loss: 0.0514 - val_accuracy: 0.9839\n",
      "Epoch 5/12\n",
      "60000/60000 [==============================] - 67s 1ms/step - loss: 0.0504 - accuracy: 0.9856 - val_loss: 0.0336 - val_accuracy: 0.9895\n",
      "Epoch 6/12\n",
      "60000/60000 [==============================] - 68s 1ms/step - loss: 0.0514 - accuracy: 0.9861 - val_loss: 0.0320 - val_accuracy: 0.9894\n",
      "Epoch 7/12\n",
      "60000/60000 [==============================] - 68s 1ms/step - loss: 0.0510 - accuracy: 0.9858 - val_loss: 0.0331 - val_accuracy: 0.9895\n",
      "Epoch 8/12\n",
      "60000/60000 [==============================] - 68s 1ms/step - loss: 0.0523 - accuracy: 0.9855 - val_loss: 0.0417 - val_accuracy: 0.9892\n",
      "Epoch 9/12\n",
      "60000/60000 [==============================] - 68s 1ms/step - loss: 0.0536 - accuracy: 0.9858 - val_loss: 0.0372 - val_accuracy: 0.9898\n",
      "Epoch 10/12\n",
      "60000/60000 [==============================] - 68s 1ms/step - loss: 0.0540 - accuracy: 0.9854 - val_loss: 0.0350 - val_accuracy: 0.9906\n",
      "Epoch 11/12\n",
      "60000/60000 [==============================] - 68s 1ms/step - loss: 0.0516 - accuracy: 0.9855 - val_loss: 0.0366 - val_accuracy: 0.9893\n",
      "Epoch 12/12\n",
      "60000/60000 [==============================] - 68s 1ms/step - loss: 0.0558 - accuracy: 0.9851 - val_loss: 0.0419 - val_accuracy: 0.9898\n"
     ]
    }
   ],
   "source": [
    "# 학습하기\n",
    "hist = model.fit(X_train,y_train,\n",
    "                batch_size=128,\n",
    "                epochs=12,\n",
    "                verbose=1,\n",
    "                validation_data=(X_test,y_test))"
   ]
  },
  {
   "cell_type": "code",
   "execution_count": 11,
   "metadata": {},
   "outputs": [
    {
     "name": "stdout",
     "output_type": "stream",
     "text": [
      "10000/10000 [==============================] - 4s 428us/step\n",
      "정답률 = 0.989799976348877 loss= 0.04187503308993464\n"
     ]
    }
   ],
   "source": [
    "# 모델 평가하기 \n",
    "score = model.evaluate(X_test,y_test,verbose=1)\n",
    "print('정답률 =', score[1], 'loss=', score[0])"
   ]
  },
  {
   "cell_type": "code",
   "execution_count": 14,
   "metadata": {
    "scrolled": true
   },
   "outputs": [
    {
     "data": {
      "image/png": "[encoded data removed]",
      "text/plain": [
       "<Figure size 432x288 with 1 Axes>"
      ]
     },
     "metadata": {
      "needs_background": "light"
     },
     "output_type": "display_data"
    }
   ],
   "source": [
    "# 학습 상태를 그래프로 그리기\n",
    "# 정답률 추이를 그래프로 그리기\n",
    "plt.plot(hist.history['accuracy'])\n",
    "plt.plot(hist.history['val_accuracy'])\n",
    "plt.title('Accuracy')\n",
    "plt.legend(['train','test'], loc= 'upper left')\n",
    "plt.show()"
   ]
  },
  {
   "cell_type": "code",
   "execution_count": 15,
   "metadata": {},
   "outputs": [
    {
     "data": {
      "image/png": "[encoded data removed]",
      "text/plain": [
       "<Figure size 432x288 with 1 Axes>"
      ]
     },
     "metadata": {
      "needs_background": "light"
     },
     "output_type": "display_data"
    }
   ],
   "source": [
    "# 손실 추이를 그래프로 그리기\n",
    "plt.plot(hist.history['loss'])\n",
    "plt.plot(hist.history['val_loss'])\n",
    "plt.title('loss')\n",
    "plt.legend(['train','test'], loc= 'upper left')\n",
    "plt.show()"
   ]
  },
  {
   "cell_type": "code",
   "execution_count": null,
   "metadata": {},
   "outputs": [],
   "source": []
  }
 ],
 "metadata": {
  "kernelspec": {
   "display_name": "Python 3",
   "language": "python",
   "name": "python3"
  },
  "language_info": {
   "codemirror_mode": {
    "name": "ipython",
    "version": 3
   },
   "file_extension": ".py",
   "mimetype": "text/x-python",
   "name": "python",
   "nbconvert_exporter": "python",
   "pygments_lexer": "ipython3",
   "version": "3.7.3"
  }
 },
 "nbformat": 4,
 "nbformat_minor": 2
}
